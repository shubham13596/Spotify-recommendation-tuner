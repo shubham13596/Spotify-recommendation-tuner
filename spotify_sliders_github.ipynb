{
 "cells": [
  {
   "cell_type": "code",
   "execution_count": 9,
   "id": "896f2476-1c96-4858-9f41-bc09465bb653",
   "metadata": {},
   "outputs": [
    {
     "name": "stdout",
     "output_type": "stream",
     "text": [
      "Overwriting app.py\n"
     ]
    }
   ],
   "source": [
    "%%writefile app.py\n",
    "\n",
    "import spotipy\n",
    "from spotipy.oauth2 import SpotifyOAuth\n",
    "import streamlit as st\n",
    "from datetime import datetime, timedelta\n",
    "\n",
    "# Set up Spotify API credentials\n",
    "client_id = \"enter_client_id_from_spotify_developer_portal\"\n",
    "client_secret = \"enter_client_secret_from_spotify_developer_portal\"\n",
    "redirect_uri = \"enter_redirect_uri_as_in_spotify_developer_portal\"\n",
    "scope = \"user-read-recently-played user-top-read\"\n",
    "\n",
    "# Create a Spotify client\n",
    "sp = spotipy.Spotify(auth_manager=SpotifyOAuth(client_id=client_id, client_secret=client_secret, redirect_uri=redirect_uri, scope=scope))\n",
    "\n",
    "# Initialize session state\n",
    "if 'recommendations' not in st.session_state:\n",
    "    # Step 1: Get the user's recently played tracks from the past 3 months\n",
    "    three_months_ago = datetime.now() - timedelta(days=90)\n",
    "    results = sp.current_user_recently_played(limit=50)  # Adjust the limit as needed\n",
    "    recent_tracks = [item[\"track\"] for item in results[\"items\"] if datetime.strptime(item[\"played_at\"], \"%Y-%m-%dT%H:%M:%S.%fZ\") >= three_months_ago]\n",
    "\n",
    "    # Step 2: Get recommendations based on the recent tracks (limited to 5 seed tracks)\n",
    "    track_ids = [track[\"id\"] for track in recent_tracks[:5]]  # Limit to a maximum of 5 seed tracks\n",
    "    recommendations = sp.recommendations(seed_tracks=track_ids, limit=5)\n",
    "\n",
    "    tracks = recommendations[\"tracks\"]\n",
    "\n",
    "    recommendation_track_ids = [track[\"id\"] for track in tracks]\n",
    "\n",
    "    # Calculate average values for energy and instrumentalness\n",
    "    audio_features = sp.audio_features(tracks=recommendation_track_ids)\n",
    "    energy_sum = sum(track[\"energy\"] for track in audio_features)\n",
    "    instrumentalness_sum = sum(track[\"instrumentalness\"] for track in audio_features)\n",
    "    num_tracks = len(tracks)\n",
    "\n",
    "    avg_energy = energy_sum / num_tracks if num_tracks > 0 else 0\n",
    "    avg_instrumentalness = instrumentalness_sum / num_tracks if num_tracks > 0 else 0\n",
    "\n",
    "    st.session_state.recommendations = recommendations\n",
    "    st.session_state.avg_energy = avg_energy\n",
    "    st.session_state.avg_instrumentalness = avg_instrumentalness\n",
    "    st.session_state.track_ids = track_ids\n",
    "\n",
    "# Streamlit app\n",
    "st.title(\"Spotify Recommendations\")\n",
    "\n",
    "# Display the number of tracks considered\n",
    "st.write(f\"Considering {len(st.session_state.track_ids)} tracks played in the past 3 months\")\n",
    "\n",
    "# Create sliders for energy and instrumentalness\n",
    "energy = st.slider(\"Energy\", min_value=0.0, max_value=1.0, value=st.session_state.avg_energy, step=0.05)\n",
    "instrumentalness = st.slider(\"Instrumentalness\", min_value=0.0, max_value=1.0, value=st.session_state.avg_instrumentalness, step=0.05)\n",
    "\n",
    "# Function to display track information with thumbnail\n",
    "def display_track(track, index):\n",
    "    col1, col2 = st.columns([1, 3])\n",
    "    with col1:\n",
    "        st.image(track['album']['images'][0]['url'], width=100)\n",
    "    with col2:\n",
    "        st.write(f\"{index}. {track['name']} by {track['artists'][0]['name']}\")\n",
    "        st.write(f\"Album: {track['album']['name']}\")\n",
    "\n",
    "# Button to get new recommendations\n",
    "if st.button(\"Get New Recommendations\"):\n",
    "    new_recommendations = sp.recommendations(seed_tracks=st.session_state.track_ids, limit=5,\n",
    "                                             target_energy=energy,\n",
    "                                             target_instrumentalness=instrumentalness)\n",
    "    st.session_state.recommendations = new_recommendations\n",
    "\n",
    "# Display the current recommendations\n",
    "for i, track in enumerate(st.session_state.recommendations[\"tracks\"], start=1):\n",
    "    display_track(track, i)"
   ]
  },
  {
   "cell_type": "code",
   "execution_count": null,
   "id": "3bd43927-dbd2-4794-868b-d61532f111ba",
   "metadata": {},
   "outputs": [],
   "source": []
  }
 ],
 "metadata": {
  "kernelspec": {
   "display_name": "Python 3 (ipykernel)",
   "language": "python",
   "name": "python3"
  },
  "language_info": {
   "codemirror_mode": {
    "name": "ipython",
    "version": 3
   },
   "file_extension": ".py",
   "mimetype": "text/x-python",
   "name": "python",
   "nbconvert_exporter": "python",
   "pygments_lexer": "ipython3",
   "version": "3.11.9"
  }
 },
 "nbformat": 4,
 "nbformat_minor": 5
}
